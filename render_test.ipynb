{
 "cells": [
  {
   "cell_type": "code",
   "execution_count": 3,
   "metadata": {},
   "outputs": [],
   "source": [
    "from equilib import equi2pers\n",
    "import numpy as np\n",
    "import matplotlib.pyplot as plt\n",
    "import cv2\n",
    "from tqdm import tqdm"
   ]
  },
  {
   "cell_type": "code",
   "execution_count": 4,
   "metadata": {},
   "outputs": [],
   "source": [
    "# Render some test images\n",
    "# yaw, pitch, roll specified as in OpenGL convention\n",
    "# (rotations around y, x, z, cam faces -z)\n",
    "\n",
    "# a0: 0, 0, 0\n",
    "# a1: 20, -15, 10\n",
    "\n",
    "e_img = cv2.imread('/Users/richard/Desktop/real.jpg')\n",
    "e_img = e_img.transpose(2, 0, 1)"
   ]
  },
  {
   "cell_type": "code",
   "execution_count": 8,
   "metadata": {},
   "outputs": [
    {
     "data": {
      "text/plain": [
       "True"
      ]
     },
     "execution_count": 8,
     "metadata": {},
     "output_type": "execute_result"
    }
   ],
   "source": [
    "rots = {\n",
    "    'yaw': np.radians(0),\n",
    "    'pitch': np.radians(0),\n",
    "    'roll': np.radians(0),\n",
    "}\n",
    "out = equi2pers(e_img, rots, 480, 640, 91.3085)\n",
    "cv2.imwrite('a0.jpg', out.transpose(1, 2, 0))"
   ]
  },
  {
   "cell_type": "code",
   "execution_count": null,
   "metadata": {},
   "outputs": [],
   "source": []
  }
 ],
 "metadata": {
  "kernelspec": {
   "display_name": "base",
   "language": "python",
   "name": "python3"
  },
  "language_info": {
   "codemirror_mode": {
    "name": "ipython",
    "version": 3
   },
   "file_extension": ".py",
   "mimetype": "text/x-python",
   "name": "python",
   "nbconvert_exporter": "python",
   "pygments_lexer": "ipython3",
   "version": "3.10.13"
  }
 },
 "nbformat": 4,
 "nbformat_minor": 2
}
